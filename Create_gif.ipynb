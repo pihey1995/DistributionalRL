{
 "cells": [
  {
   "cell_type": "code",
   "execution_count": 31,
   "metadata": {},
   "outputs": [],
   "source": [
    "import os,sys\n",
    "import datetime\n",
    "import imageio\n",
    "from pprint import pprint\n",
    "import time\n",
    "import datetime\n",
    "e=sys.exit\n",
    "import glob\n",
    "\n",
    "import re\n",
    "def sorted_nicely( l ):\n",
    "    \"\"\" Sorts the given iterable in the way that is expected.\n",
    " \n",
    "    Required arguments:\n",
    "    l -- The iterable to be sorted.\n",
    " \n",
    "    \"\"\"\n",
    "    convert = lambda text: int(text) if text.isdigit() else text\n",
    "    alphanum_key = lambda key: [convert(c) for c in re.split('([0-9]+)', key)]\n",
    "    return sorted(l, key = alphanum_key)\n",
    "\n",
    "def create_gif(filenames, duration, output_file):\n",
    "    images = []\n",
    "    for filename in filenames:\n",
    "        images.append(imageio.imread(filename))\n",
    "    imageio.mimsave(output_file, images, duration=duration)\n",
    "    print(\"Finished. Gif registered in :{}\".format(output_file))\n",
    "\n"
   ]
  },
  {
   "cell_type": "code",
   "execution_count": 34,
   "metadata": {},
   "outputs": [
    {
     "name": "stdout",
     "output_type": "stream",
     "text": [
      "Finished. Gif registered in :results/figs/gifs/seed-1.gif\n",
      "Finished. Gif registered in :results/figs/gifs/seed-2.gif\n",
      "Finished. Gif registered in :results/figs/gifs/seed-3.gif\n",
      "Finished. Gif registered in :results/figs/gifs/seed-4.gif\n",
      "Finished. Gif registered in :results/figs/gifs/seed-5.gif\n",
      "Finished. Gif registered in :results/figs/gifs/seed-6.gif\n",
      "Finished. Gif registered in :results/figs/gifs/seed-7.gif\n",
      "Finished. Gif registered in :results/figs/gifs/seed-8.gif\n",
      "Finished. Gif registered in :results/figs/gifs/seed-9.gif\n",
      "Finished. Gif registered in :results/figs/gifs/seed-10.gif\n",
      "Finished. Gif registered in :results/figs/gifs/seed-11.gif\n"
     ]
    }
   ],
   "source": [
    "if __name__ == \"__main__\":\n",
    "    duration = 0.2 \n",
    "    \n",
    "    seeds = [i for i in range(1, 12)] \n",
    "    for seed in seeds:\n",
    "        output_file = \"results/figs/gifs/seed-{}.gif\".format(seed)\n",
    "        pics = glob.glob(\"results/figs/seed-{}/\".format(seed) + \"*.png\")\n",
    "        pics = sorted_nicely(pics)\n",
    "        create_gif(pics, duration, output_file)"
   ]
  },
  {
   "cell_type": "code",
   "execution_count": null,
   "metadata": {},
   "outputs": [],
   "source": []
  },
  {
   "cell_type": "code",
   "execution_count": null,
   "metadata": {},
   "outputs": [],
   "source": []
  }
 ],
 "metadata": {
  "kernelspec": {
   "display_name": "Python 3",
   "language": "python",
   "name": "python3"
  },
  "language_info": {
   "codemirror_mode": {
    "name": "ipython",
    "version": 3
   },
   "file_extension": ".py",
   "mimetype": "text/x-python",
   "name": "python",
   "nbconvert_exporter": "python",
   "pygments_lexer": "ipython3",
   "version": "3.6.7"
  }
 },
 "nbformat": 4,
 "nbformat_minor": 2
}
